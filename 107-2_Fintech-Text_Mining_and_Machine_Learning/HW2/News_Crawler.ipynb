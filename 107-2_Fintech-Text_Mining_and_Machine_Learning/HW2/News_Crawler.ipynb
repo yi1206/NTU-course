{
 "cells": [
  {
   "cell_type": "code",
   "execution_count": 2,
   "metadata": {},
   "outputs": [
    {
     "ename": "ModuleNotFoundError",
     "evalue": "No module named 'google'",
     "output_type": "error",
     "traceback": [
      "\u001b[0;31m---------------------------------------------------------------------------\u001b[0m",
      "\u001b[0;31mModuleNotFoundError\u001b[0m                       Traceback (most recent call last)",
      "\u001b[0;32m<ipython-input-2-dfd885cf7af4>\u001b[0m in \u001b[0;36m<module>\u001b[0;34m\u001b[0m\n\u001b[0;32m----> 1\u001b[0;31m \u001b[0;32mfrom\u001b[0m \u001b[0mgoogle\u001b[0m \u001b[0;32mimport\u001b[0m \u001b[0mgoogle\u001b[0m\u001b[0;34m\u001b[0m\u001b[0;34m\u001b[0m\u001b[0m\n\u001b[0m\u001b[1;32m      2\u001b[0m \u001b[0;34m\u001b[0m\u001b[0m\n\u001b[1;32m      3\u001b[0m media = [\"site:appledaily.com.tw\", \" site:news.ltn.com.tw/news\", \" site:udn.com/news\",\n\u001b[1;32m      4\u001b[0m          \" www.chinatimes.com\" , \" site:udn.com/news\"]\n\u001b[1;32m      5\u001b[0m \u001b[0mword\u001b[0m \u001b[0;34m=\u001b[0m \u001b[0;34m[\u001b[0m\u001b[0;34m\"毒品販運\"\u001b[0m\u001b[0;34m,\u001b[0m\u001b[0;34m\"詐欺\"\u001b[0m\u001b[0;34m,\u001b[0m\u001b[0;34m\"走私\"\u001b[0m\u001b[0;34m,\u001b[0m\u001b[0;34m\"稅務犯罪\"\u001b[0m\u001b[0;34m,\u001b[0m\u001b[0;34m\"組織犯罪\"\u001b[0m\u001b[0;34m,\u001b[0m\u001b[0;34m\"證券犯罪\"\u001b[0m\u001b[0;34m,\u001b[0m\u001b[0;34m\"貪污賄賂\"\u001b[0m\u001b[0;34m,\u001b[0m\u001b[0;34m\"第三方洗錢\"\u001b[0m\u001b[0;34m]\u001b[0m\u001b[0;34m\u001b[0m\u001b[0;34m\u001b[0m\u001b[0m\n",
      "\u001b[0;31mModuleNotFoundError\u001b[0m: No module named 'google'"
     ]
    }
   ],
   "source": [
    "from google import google\n",
    "\n",
    "media = [\"site:appledaily.com.tw\", \" site:news.ltn.com.tw/news\", \" site:udn.com/news\",\n",
    "         \" www.chinatimes.com\" , \" site:udn.com/news\"]\n",
    "word = [\"毒品販運\",\"詐欺\",\"走私\",\"稅務犯罪\",\"組織犯罪\",\"證券犯罪\",\"貪污賄賂\",\"第三方洗錢\"]\n",
    "num_page = 1\n",
    "\n",
    "for i in media :\n",
    "    for j in word:\n",
    "        search_res = google.search(j+i,num_page);\n",
    "        for m in search_res:\n",
    "            print(m.link)"
   ]
  },
  {
   "cell_type": "code",
   "execution_count": null,
   "metadata": {},
   "outputs": [],
   "source": []
  }
 ],
 "metadata": {
  "kernelspec": {
   "display_name": "Python 3",
   "language": "python",
   "name": "python3"
  },
  "language_info": {
   "codemirror_mode": {
    "name": "ipython",
    "version": 3
   },
   "file_extension": ".py",
   "mimetype": "text/x-python",
   "name": "python",
   "nbconvert_exporter": "python",
   "pygments_lexer": "ipython3",
   "version": "3.7.1"
  }
 },
 "nbformat": 4,
 "nbformat_minor": 2
}
