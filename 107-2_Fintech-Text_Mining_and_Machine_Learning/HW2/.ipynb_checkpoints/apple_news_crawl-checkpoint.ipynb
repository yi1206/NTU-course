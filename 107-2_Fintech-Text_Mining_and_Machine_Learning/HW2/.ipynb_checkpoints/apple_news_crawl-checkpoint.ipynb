{
 "cells": [
  {
   "cell_type": "code",
   "execution_count": 1,
   "metadata": {},
   "outputs": [
    {
     "ename": "ModuleNotFoundError",
     "evalue": "No module named 'google'",
     "output_type": "error",
     "traceback": [
      "\u001b[0;31m---------------------------------------------------------------------------\u001b[0m",
      "\u001b[0;31mModuleNotFoundError\u001b[0m                       Traceback (most recent call last)",
      "\u001b[0;32m<ipython-input-1-f821fde54304>\u001b[0m in \u001b[0;36m<module>\u001b[0;34m\u001b[0m\n\u001b[1;32m      2\u001b[0m \u001b[0;32mimport\u001b[0m \u001b[0mrequests\u001b[0m\u001b[0;34m\u001b[0m\u001b[0;34m\u001b[0m\u001b[0m\n\u001b[1;32m      3\u001b[0m \u001b[0;32mfrom\u001b[0m \u001b[0mbs4\u001b[0m \u001b[0;32mimport\u001b[0m \u001b[0mBeautifulSoup\u001b[0m\u001b[0;34m\u001b[0m\u001b[0;34m\u001b[0m\u001b[0m\n\u001b[0;32m----> 4\u001b[0;31m \u001b[0;32mfrom\u001b[0m \u001b[0mgoogle\u001b[0m \u001b[0;32mimport\u001b[0m \u001b[0mgoogle\u001b[0m\u001b[0;34m\u001b[0m\u001b[0;34m\u001b[0m\u001b[0m\n\u001b[0m\u001b[1;32m      5\u001b[0m \u001b[0;34m\u001b[0m\u001b[0m\n\u001b[1;32m      6\u001b[0m \u001b[0;31m# Google search api\u001b[0m\u001b[0;34m\u001b[0m\u001b[0;34m\u001b[0m\u001b[0;34m\u001b[0m\u001b[0m\n",
      "\u001b[0;31mModuleNotFoundError\u001b[0m: No module named 'google'"
     ]
    }
   ],
   "source": [
    "import os\n",
    "import requests\n",
    "from bs4 import BeautifulSoup\n",
    "from google import google\n",
    "\n",
    "# Google search api\n",
    "num_page = 1\n",
    "\n",
    "#  site:appledaily.com.tw      蘋果日報\n",
    "\n",
    "apple_news_links = []\n",
    "apple_news = []\n",
    "media = [\" site:appledaily.com.tw\"]\n",
    "word = [\"毒品販運\",\"詐欺\",\"走私\",\"稅務犯罪\",\"組織犯罪\",\"證券犯罪\",\"貪污賄賂\",\"第三方洗錢\"]\n",
    "\n",
    "for i in media :\n",
    "    for j in word:\n",
    "        search_res = google.search(j+i,num_page);\n",
    "        for m in search_res:\n",
    "            apple_news_links.append(m.link)\n",
    "#             print(m.link)\n",
    "print(\"蘋果日報 : \" + str(len(apple_news_links)) + \"筆\" + \"相關新聞\" )\n",
    "print(apple_news_links)\n",
    "print(\"-----------------------------------------------------------------------\")\n",
    "\n",
    "\n",
    "for link in apple_news_links :\n",
    "    if (link == None):\n",
    "        continue\n",
    "    r = requests.get(link).text\n",
    "    soup = BeautifulSoup(r,\"html.parser\")\n",
    "    soup = soup.find( \"div\" , \"ndArticle_margin\" )\n",
    "    soup = soup.find('p')\n",
    "    if (soup == None):\n",
    "        continue\n",
    "#     print(soup.get_text())\n",
    "    apple_news.append( soup.get_text())\n",
    "\n",
    "print(\"蘋果日報 相關新聞內文 \")\n",
    "print(apple_news)"
   ]
  },
  {
   "cell_type": "code",
   "execution_count": null,
   "metadata": {},
   "outputs": [],
   "source": []
  }
 ],
 "metadata": {
  "kernelspec": {
   "display_name": "Python 3",
   "language": "python",
   "name": "python3"
  },
  "language_info": {
   "codemirror_mode": {
    "name": "ipython",
    "version": 3
   },
   "file_extension": ".py",
   "mimetype": "text/x-python",
   "name": "python",
   "nbconvert_exporter": "python",
   "pygments_lexer": "ipython3",
   "version": "3.7.1"
  }
 },
 "nbformat": 4,
 "nbformat_minor": 2
}
